{
 "cells": [
  {
   "cell_type": "code",
   "execution_count": 1,
   "metadata": {},
   "outputs": [
    {
     "data": {
      "text/plain": [
       "6-element Array{Float64,1}:\n",
       " 1.1\n",
       " 2.2\n",
       " 3.3\n",
       " 4.4\n",
       " 5.5\n",
       " 6.6"
      ]
     },
     "execution_count": 1,
     "metadata": {},
     "output_type": "execute_result"
    }
   ],
   "source": [
    "x = [1.1, 2.2, 3.3, 4.4, 5.5, 6.6]"
   ]
  },
  {
   "cell_type": "code",
   "execution_count": 8,
   "metadata": {},
   "outputs": [
    {
     "data": {
      "text/plain": [
       "3-element Array{Float64,1}:\n",
       "   1.0\n",
       "   2.0\n",
       " NaN"
      ]
     },
     "execution_count": 8,
     "metadata": {},
     "output_type": "execute_result"
    }
   ],
   "source": [
    "b = [1,2, NaN]"
   ]
  },
  {
   "cell_type": "code",
   "execution_count": 13,
   "metadata": {},
   "outputs": [
    {
     "data": {
      "text/plain": [
       "missing"
      ]
     },
     "execution_count": 13,
     "metadata": {},
     "output_type": "execute_result"
    }
   ],
   "source": [
    "#missing型\n",
    "missing"
   ]
  },
  {
   "cell_type": "code",
   "execution_count": 15,
   "metadata": {},
   "outputs": [
    {
     "data": {
      "text/plain": [
       "Missing"
      ]
     },
     "execution_count": 15,
     "metadata": {},
     "output_type": "execute_result"
    }
   ],
   "source": [
    "typeof(missing) #型を調べるときはtypeof()"
   ]
  },
  {
   "cell_type": "code",
   "execution_count": 17,
   "metadata": {},
   "outputs": [
    {
     "data": {
      "text/plain": [
       "3-element Array{Union{Missing, Int64},1}:\n",
       " 1\n",
       " 2\n",
       "  missing"
      ]
     },
     "execution_count": 17,
     "metadata": {},
     "output_type": "execute_result"
    }
   ],
   "source": [
    "x = [1, 2, missing]"
   ]
  },
  {
   "cell_type": "code",
   "execution_count": 18,
   "metadata": {},
   "outputs": [
    {
     "data": {
      "text/plain": [
       "skipmissing(Union{Missing, Int64}[1, 2, missing])"
      ]
     },
     "execution_count": 18,
     "metadata": {},
     "output_type": "execute_result"
    }
   ],
   "source": [
    "skipmissing(x)"
   ]
  },
  {
   "cell_type": "code",
   "execution_count": 25,
   "metadata": {},
   "outputs": [
    {
     "data": {
      "text/plain": [
       "2-element Array{Int64,1}:\n",
       " 1\n",
       " 2"
      ]
     },
     "execution_count": 25,
     "metadata": {},
     "output_type": "execute_result"
    }
   ],
   "source": [
    "collect(skipmissing(x))"
   ]
  },
  {
   "cell_type": "code",
   "execution_count": 24,
   "metadata": {},
   "outputs": [
    {
     "data": {
      "text/plain": [
       "Array{Int64,1}"
      ]
     },
     "execution_count": 24,
     "metadata": {},
     "output_type": "execute_result"
    }
   ],
   "source": [
    "typeof(s)"
   ]
  },
  {
   "cell_type": "code",
   "execution_count": 29,
   "metadata": {},
   "outputs": [
    {
     "name": "stderr",
     "output_type": "stream",
     "text": [
      "┌ Info: Precompiling DataFrames [a93c6f00-e57d-5684-b7b6-d8193f3e46c0]\n",
      "└ @ Base loading.jl:1278\n"
     ]
    }
   ],
   "source": [
    "using DataFrames"
   ]
  },
  {
   "cell_type": "code",
   "execution_count": 30,
   "metadata": {},
   "outputs": [
    {
     "data": {
      "text/html": [
       "<table class=\"data-frame\"><thead><tr><th></th><th>Name</th><th>price</th><th>count</th></tr><tr><th></th><th>String</th><th>Int64</th><th>Int64</th></tr></thead><tbody><p>2 rows × 3 columns</p><tr><th>1</th><td>mikan</td><td>120</td><td>4</td></tr><tr><th>2</th><td>orange</td><td>105</td><td>7</td></tr></tbody></table>"
      ],
      "text/latex": [
       "\\begin{tabular}{r|ccc}\n",
       "\t& Name & price & count\\\\\n",
       "\t\\hline\n",
       "\t& String & Int64 & Int64\\\\\n",
       "\t\\hline\n",
       "\t1 & mikan & 120 & 4 \\\\\n",
       "\t2 & orange & 105 & 7 \\\\\n",
       "\\end{tabular}\n"
      ],
      "text/plain": [
       "\u001b[1m2×3 DataFrame\u001b[0m\n",
       "\u001b[1m Row \u001b[0m│\u001b[1m Name   \u001b[0m\u001b[1m price \u001b[0m\u001b[1m count \u001b[0m\n",
       "\u001b[1m     \u001b[0m│\u001b[90m String \u001b[0m\u001b[90m Int64 \u001b[0m\u001b[90m Int64 \u001b[0m\n",
       "─────┼──────────────────────\n",
       "   1 │ mikan     120      4\n",
       "   2 │ orange    105      7"
      ]
     },
     "execution_count": 30,
     "metadata": {},
     "output_type": "execute_result"
    }
   ],
   "source": [
    "df = DataFrame(Name = [\"mikan\", \"orange\"], price=[120, 105], count=[4,7])"
   ]
  },
  {
   "cell_type": "code",
   "execution_count": 32,
   "metadata": {},
   "outputs": [
    {
     "data": {
      "text/html": [
       "<table class=\"data-frame\"><thead><tr><th></th><th>SepalLength</th><th>SepalWidth</th><th>PetalLength</th><th>PetalWidth</th><th>Species</th></tr><tr><th></th><th>Float64</th><th>Float64</th><th>Float64</th><th>Float64</th><th>Cat…</th></tr></thead><tbody><p>150 rows × 5 columns</p><tr><th>1</th><td>5.1</td><td>3.5</td><td>1.4</td><td>0.2</td><td>setosa</td></tr><tr><th>2</th><td>4.9</td><td>3.0</td><td>1.4</td><td>0.2</td><td>setosa</td></tr><tr><th>3</th><td>4.7</td><td>3.2</td><td>1.3</td><td>0.2</td><td>setosa</td></tr><tr><th>4</th><td>4.6</td><td>3.1</td><td>1.5</td><td>0.2</td><td>setosa</td></tr><tr><th>5</th><td>5.0</td><td>3.6</td><td>1.4</td><td>0.2</td><td>setosa</td></tr><tr><th>6</th><td>5.4</td><td>3.9</td><td>1.7</td><td>0.4</td><td>setosa</td></tr><tr><th>7</th><td>4.6</td><td>3.4</td><td>1.4</td><td>0.3</td><td>setosa</td></tr><tr><th>8</th><td>5.0</td><td>3.4</td><td>1.5</td><td>0.2</td><td>setosa</td></tr><tr><th>9</th><td>4.4</td><td>2.9</td><td>1.4</td><td>0.2</td><td>setosa</td></tr><tr><th>10</th><td>4.9</td><td>3.1</td><td>1.5</td><td>0.1</td><td>setosa</td></tr><tr><th>11</th><td>5.4</td><td>3.7</td><td>1.5</td><td>0.2</td><td>setosa</td></tr><tr><th>12</th><td>4.8</td><td>3.4</td><td>1.6</td><td>0.2</td><td>setosa</td></tr><tr><th>13</th><td>4.8</td><td>3.0</td><td>1.4</td><td>0.1</td><td>setosa</td></tr><tr><th>14</th><td>4.3</td><td>3.0</td><td>1.1</td><td>0.1</td><td>setosa</td></tr><tr><th>15</th><td>5.8</td><td>4.0</td><td>1.2</td><td>0.2</td><td>setosa</td></tr><tr><th>16</th><td>5.7</td><td>4.4</td><td>1.5</td><td>0.4</td><td>setosa</td></tr><tr><th>17</th><td>5.4</td><td>3.9</td><td>1.3</td><td>0.4</td><td>setosa</td></tr><tr><th>18</th><td>5.1</td><td>3.5</td><td>1.4</td><td>0.3</td><td>setosa</td></tr><tr><th>19</th><td>5.7</td><td>3.8</td><td>1.7</td><td>0.3</td><td>setosa</td></tr><tr><th>20</th><td>5.1</td><td>3.8</td><td>1.5</td><td>0.3</td><td>setosa</td></tr><tr><th>21</th><td>5.4</td><td>3.4</td><td>1.7</td><td>0.2</td><td>setosa</td></tr><tr><th>22</th><td>5.1</td><td>3.7</td><td>1.5</td><td>0.4</td><td>setosa</td></tr><tr><th>23</th><td>4.6</td><td>3.6</td><td>1.0</td><td>0.2</td><td>setosa</td></tr><tr><th>24</th><td>5.1</td><td>3.3</td><td>1.7</td><td>0.5</td><td>setosa</td></tr><tr><th>25</th><td>4.8</td><td>3.4</td><td>1.9</td><td>0.2</td><td>setosa</td></tr><tr><th>26</th><td>5.0</td><td>3.0</td><td>1.6</td><td>0.2</td><td>setosa</td></tr><tr><th>27</th><td>5.0</td><td>3.4</td><td>1.6</td><td>0.4</td><td>setosa</td></tr><tr><th>28</th><td>5.2</td><td>3.5</td><td>1.5</td><td>0.2</td><td>setosa</td></tr><tr><th>29</th><td>5.2</td><td>3.4</td><td>1.4</td><td>0.2</td><td>setosa</td></tr><tr><th>30</th><td>4.7</td><td>3.2</td><td>1.6</td><td>0.2</td><td>setosa</td></tr><tr><th>&vellip;</th><td>&vellip;</td><td>&vellip;</td><td>&vellip;</td><td>&vellip;</td><td>&vellip;</td></tr></tbody></table>"
      ],
      "text/latex": [
       "\\begin{tabular}{r|ccccc}\n",
       "\t& SepalLength & SepalWidth & PetalLength & PetalWidth & Species\\\\\n",
       "\t\\hline\n",
       "\t& Float64 & Float64 & Float64 & Float64 & Cat…\\\\\n",
       "\t\\hline\n",
       "\t1 & 5.1 & 3.5 & 1.4 & 0.2 & setosa \\\\\n",
       "\t2 & 4.9 & 3.0 & 1.4 & 0.2 & setosa \\\\\n",
       "\t3 & 4.7 & 3.2 & 1.3 & 0.2 & setosa \\\\\n",
       "\t4 & 4.6 & 3.1 & 1.5 & 0.2 & setosa \\\\\n",
       "\t5 & 5.0 & 3.6 & 1.4 & 0.2 & setosa \\\\\n",
       "\t6 & 5.4 & 3.9 & 1.7 & 0.4 & setosa \\\\\n",
       "\t7 & 4.6 & 3.4 & 1.4 & 0.3 & setosa \\\\\n",
       "\t8 & 5.0 & 3.4 & 1.5 & 0.2 & setosa \\\\\n",
       "\t9 & 4.4 & 2.9 & 1.4 & 0.2 & setosa \\\\\n",
       "\t10 & 4.9 & 3.1 & 1.5 & 0.1 & setosa \\\\\n",
       "\t11 & 5.4 & 3.7 & 1.5 & 0.2 & setosa \\\\\n",
       "\t12 & 4.8 & 3.4 & 1.6 & 0.2 & setosa \\\\\n",
       "\t13 & 4.8 & 3.0 & 1.4 & 0.1 & setosa \\\\\n",
       "\t14 & 4.3 & 3.0 & 1.1 & 0.1 & setosa \\\\\n",
       "\t15 & 5.8 & 4.0 & 1.2 & 0.2 & setosa \\\\\n",
       "\t16 & 5.7 & 4.4 & 1.5 & 0.4 & setosa \\\\\n",
       "\t17 & 5.4 & 3.9 & 1.3 & 0.4 & setosa \\\\\n",
       "\t18 & 5.1 & 3.5 & 1.4 & 0.3 & setosa \\\\\n",
       "\t19 & 5.7 & 3.8 & 1.7 & 0.3 & setosa \\\\\n",
       "\t20 & 5.1 & 3.8 & 1.5 & 0.3 & setosa \\\\\n",
       "\t21 & 5.4 & 3.4 & 1.7 & 0.2 & setosa \\\\\n",
       "\t22 & 5.1 & 3.7 & 1.5 & 0.4 & setosa \\\\\n",
       "\t23 & 4.6 & 3.6 & 1.0 & 0.2 & setosa \\\\\n",
       "\t24 & 5.1 & 3.3 & 1.7 & 0.5 & setosa \\\\\n",
       "\t25 & 4.8 & 3.4 & 1.9 & 0.2 & setosa \\\\\n",
       "\t26 & 5.0 & 3.0 & 1.6 & 0.2 & setosa \\\\\n",
       "\t27 & 5.0 & 3.4 & 1.6 & 0.4 & setosa \\\\\n",
       "\t28 & 5.2 & 3.5 & 1.5 & 0.2 & setosa \\\\\n",
       "\t29 & 5.2 & 3.4 & 1.4 & 0.2 & setosa \\\\\n",
       "\t30 & 4.7 & 3.2 & 1.6 & 0.2 & setosa \\\\\n",
       "\t$\\dots$ & $\\dots$ & $\\dots$ & $\\dots$ & $\\dots$ & $\\dots$ \\\\\n",
       "\\end{tabular}\n"
      ],
      "text/plain": [
       "\u001b[1m150×5 DataFrame\u001b[0m\n",
       "\u001b[1m Row \u001b[0m│\u001b[1m SepalLength \u001b[0m\u001b[1m SepalWidth \u001b[0m\u001b[1m PetalLength \u001b[0m\u001b[1m PetalWidth \u001b[0m\u001b[1m Species   \u001b[0m\n",
       "\u001b[1m     \u001b[0m│\u001b[90m Float64     \u001b[0m\u001b[90m Float64    \u001b[0m\u001b[90m Float64     \u001b[0m\u001b[90m Float64    \u001b[0m\u001b[90m Cat…      \u001b[0m\n",
       "─────┼─────────────────────────────────────────────────────────────\n",
       "   1 │         5.1         3.5          1.4         0.2  setosa\n",
       "   2 │         4.9         3.0          1.4         0.2  setosa\n",
       "   3 │         4.7         3.2          1.3         0.2  setosa\n",
       "   4 │         4.6         3.1          1.5         0.2  setosa\n",
       "   5 │         5.0         3.6          1.4         0.2  setosa\n",
       "   6 │         5.4         3.9          1.7         0.4  setosa\n",
       "   7 │         4.6         3.4          1.4         0.3  setosa\n",
       "   8 │         5.0         3.4          1.5         0.2  setosa\n",
       "   9 │         4.4         2.9          1.4         0.2  setosa\n",
       "  10 │         4.9         3.1          1.5         0.1  setosa\n",
       "  11 │         5.4         3.7          1.5         0.2  setosa\n",
       "  ⋮  │      ⋮           ⋮            ⋮           ⋮           ⋮\n",
       " 141 │         6.7         3.1          5.6         2.4  virginica\n",
       " 142 │         6.9         3.1          5.1         2.3  virginica\n",
       " 143 │         5.8         2.7          5.1         1.9  virginica\n",
       " 144 │         6.8         3.2          5.9         2.3  virginica\n",
       " 145 │         6.7         3.3          5.7         2.5  virginica\n",
       " 146 │         6.7         3.0          5.2         2.3  virginica\n",
       " 147 │         6.3         2.5          5.0         1.9  virginica\n",
       " 148 │         6.5         3.0          5.2         2.0  virginica\n",
       " 149 │         6.2         3.4          5.4         2.3  virginica\n",
       " 150 │         5.9         3.0          5.1         1.8  virginica\n",
       "\u001b[31m                                                   129 rows omitted\u001b[0m"
      ]
     },
     "execution_count": 32,
     "metadata": {},
     "output_type": "execute_result"
    }
   ],
   "source": [
    "using RDatasets\n",
    "\n",
    "iris = dataset(\"datasets\", \"iris\")"
   ]
  },
  {
   "cell_type": "code",
   "execution_count": 39,
   "metadata": {},
   "outputs": [
    {
     "data": {
      "text/plain": [
       "\"output.csv\""
      ]
     },
     "execution_count": 39,
     "metadata": {},
     "output_type": "execute_result"
    }
   ],
   "source": [
    "#DataFrameをファイルに書き出し\n",
    "using CSV\n",
    "\n",
    "CSV.write(\"output.csv\", iris)"
   ]
  },
  {
   "cell_type": "code",
   "execution_count": 8,
   "metadata": {},
   "outputs": [
    {
     "data": {
      "text/html": [
       "<table class=\"data-frame\"><thead><tr><th></th><th>Accident_Index</th><th>Location_Easting_OSGR</th><th>Location_Northing_OSGR</th><th>Longitude</th><th>Latitude</th></tr><tr><th></th><th>String</th><th>Int64?</th><th>Int64?</th><th>Float64?</th><th>Float64?</th></tr></thead><tbody><p>122,635 rows × 32 columns (omitted printing of 27 columns)</p><tr><th>1</th><td>2018010080971</td><td>529150</td><td>182270</td><td>-0.139737</td><td>51.5246</td></tr><tr><th>2</th><td>2018010080973</td><td>542020</td><td>184290</td><td>0.046471</td><td>51.5397</td></tr><tr><th>3</th><td>2018010080974</td><td>531720</td><td>182910</td><td>-0.102474</td><td>51.5297</td></tr><tr><th>4</th><td>2018010080981</td><td>541450</td><td>183220</td><td>0.037828</td><td>51.5302</td></tr><tr><th>5</th><td>2018010080982</td><td>543580</td><td>176500</td><td>0.065781</td><td>51.4693</td></tr><tr><th>6</th><td>2018010080983</td><td>526060</td><td>194910</td><td>-0.17972</td><td>51.6389</td></tr><tr><th>7</th><td>2018010080986</td><td>525050</td><td>181050</td><td>-0.199239</td><td>51.5145</td></tr><tr><th>8</th><td>2018010080987</td><td>536710</td><td>176960</td><td>-0.032886</td><td>51.4751</td></tr><tr><th>9</th><td>2018010080990</td><td>517110</td><td>186280</td><td>-0.311872</td><td>51.5632</td></tr><tr><th>10</th><td>2018010080992</td><td>535450</td><td>181190</td><td>-0.049395</td><td>51.5134</td></tr><tr><th>11</th><td>2018010080993</td><td>534590</td><td>183230</td><td>-0.061002</td><td>51.5319</td></tr><tr><th>12</th><td>2018010080994</td><td>512160</td><td>176120</td><td>-0.386484</td><td>51.4729</td></tr><tr><th>13</th><td>2018010080995</td><td>514550</td><td>188210</td><td>-0.34816</td><td>51.5811</td></tr><tr><th>14</th><td>2018010080996</td><td>531790</td><td>178650</td><td>-0.103057</td><td>51.4914</td></tr><tr><th>15</th><td>2018010080997</td><td>535960</td><td>171440</td><td>-0.045798</td><td>51.4257</td></tr><tr><th>16</th><td>2018010081002</td><td>529820</td><td>175530</td><td>-0.132562</td><td>51.4639</td></tr><tr><th>17</th><td>2018010081003</td><td>520460</td><td>181340</td><td>-0.265255</td><td>51.5181</td></tr><tr><th>18</th><td>2018010081009</td><td>528590</td><td>174030</td><td>-0.150803</td><td>51.4507</td></tr><tr><th>19</th><td>2018010081025</td><td>530690</td><td>181840</td><td>-0.117711</td><td>51.5204</td></tr><tr><th>20</th><td>2018010081035</td><td>530600</td><td>179650</td><td>-0.119818</td><td>51.5007</td></tr><tr><th>21</th><td>2018010081044</td><td>534830</td><td>185010</td><td>-0.056863</td><td>51.5479</td></tr><tr><th>22</th><td>2018010081054</td><td>531320</td><td>189860</td><td>-0.105644</td><td>51.5923</td></tr><tr><th>23</th><td>2018010081059</td><td>532310</td><td>177250</td><td>-0.096095</td><td>51.4787</td></tr><tr><th>24</th><td>2018010081061</td><td>520890</td><td>178490</td><td>-0.260037</td><td>51.4924</td></tr><tr><th>25</th><td>2018010081063</td><td>535100</td><td>185510</td><td>-0.05278</td><td>51.5523</td></tr><tr><th>26</th><td>2018010081067</td><td>536660</td><td>184610</td><td>-0.030642</td><td>51.5438</td></tr><tr><th>27</th><td>2018010081069</td><td>518790</td><td>176710</td><td>-0.29087</td><td>51.4769</td></tr><tr><th>28</th><td>2018010081072</td><td>531200</td><td>175300</td><td>-0.112793</td><td>51.4615</td></tr><tr><th>29</th><td>2018010081073</td><td>529160</td><td>193140</td><td>-0.1356</td><td>51.6223</td></tr><tr><th>30</th><td>2018010081077</td><td>530220</td><td>166830</td><td>-0.130002</td><td>51.3856</td></tr><tr><th>&vellip;</th><td>&vellip;</td><td>&vellip;</td><td>&vellip;</td><td>&vellip;</td><td>&vellip;</td></tr></tbody></table>"
      ],
      "text/latex": [
       "\\begin{tabular}{r|cccccc}\n",
       "\t& Accident\\_Index & Location\\_Easting\\_OSGR & Location\\_Northing\\_OSGR & Longitude & Latitude & \\\\\n",
       "\t\\hline\n",
       "\t& String & Int64? & Int64? & Float64? & Float64? & \\\\\n",
       "\t\\hline\n",
       "\t1 & 2018010080971 & 529150 & 182270 & -0.139737 & 51.5246 & $\\dots$ \\\\\n",
       "\t2 & 2018010080973 & 542020 & 184290 & 0.046471 & 51.5397 & $\\dots$ \\\\\n",
       "\t3 & 2018010080974 & 531720 & 182910 & -0.102474 & 51.5297 & $\\dots$ \\\\\n",
       "\t4 & 2018010080981 & 541450 & 183220 & 0.037828 & 51.5302 & $\\dots$ \\\\\n",
       "\t5 & 2018010080982 & 543580 & 176500 & 0.065781 & 51.4693 & $\\dots$ \\\\\n",
       "\t6 & 2018010080983 & 526060 & 194910 & -0.17972 & 51.6389 & $\\dots$ \\\\\n",
       "\t7 & 2018010080986 & 525050 & 181050 & -0.199239 & 51.5145 & $\\dots$ \\\\\n",
       "\t8 & 2018010080987 & 536710 & 176960 & -0.032886 & 51.4751 & $\\dots$ \\\\\n",
       "\t9 & 2018010080990 & 517110 & 186280 & -0.311872 & 51.5632 & $\\dots$ \\\\\n",
       "\t10 & 2018010080992 & 535450 & 181190 & -0.049395 & 51.5134 & $\\dots$ \\\\\n",
       "\t11 & 2018010080993 & 534590 & 183230 & -0.061002 & 51.5319 & $\\dots$ \\\\\n",
       "\t12 & 2018010080994 & 512160 & 176120 & -0.386484 & 51.4729 & $\\dots$ \\\\\n",
       "\t13 & 2018010080995 & 514550 & 188210 & -0.34816 & 51.5811 & $\\dots$ \\\\\n",
       "\t14 & 2018010080996 & 531790 & 178650 & -0.103057 & 51.4914 & $\\dots$ \\\\\n",
       "\t15 & 2018010080997 & 535960 & 171440 & -0.045798 & 51.4257 & $\\dots$ \\\\\n",
       "\t16 & 2018010081002 & 529820 & 175530 & -0.132562 & 51.4639 & $\\dots$ \\\\\n",
       "\t17 & 2018010081003 & 520460 & 181340 & -0.265255 & 51.5181 & $\\dots$ \\\\\n",
       "\t18 & 2018010081009 & 528590 & 174030 & -0.150803 & 51.4507 & $\\dots$ \\\\\n",
       "\t19 & 2018010081025 & 530690 & 181840 & -0.117711 & 51.5204 & $\\dots$ \\\\\n",
       "\t20 & 2018010081035 & 530600 & 179650 & -0.119818 & 51.5007 & $\\dots$ \\\\\n",
       "\t21 & 2018010081044 & 534830 & 185010 & -0.056863 & 51.5479 & $\\dots$ \\\\\n",
       "\t22 & 2018010081054 & 531320 & 189860 & -0.105644 & 51.5923 & $\\dots$ \\\\\n",
       "\t23 & 2018010081059 & 532310 & 177250 & -0.096095 & 51.4787 & $\\dots$ \\\\\n",
       "\t24 & 2018010081061 & 520890 & 178490 & -0.260037 & 51.4924 & $\\dots$ \\\\\n",
       "\t25 & 2018010081063 & 535100 & 185510 & -0.05278 & 51.5523 & $\\dots$ \\\\\n",
       "\t26 & 2018010081067 & 536660 & 184610 & -0.030642 & 51.5438 & $\\dots$ \\\\\n",
       "\t27 & 2018010081069 & 518790 & 176710 & -0.29087 & 51.4769 & $\\dots$ \\\\\n",
       "\t28 & 2018010081072 & 531200 & 175300 & -0.112793 & 51.4615 & $\\dots$ \\\\\n",
       "\t29 & 2018010081073 & 529160 & 193140 & -0.1356 & 51.6223 & $\\dots$ \\\\\n",
       "\t30 & 2018010081077 & 530220 & 166830 & -0.130002 & 51.3856 & $\\dots$ \\\\\n",
       "\t$\\dots$ & $\\dots$ & $\\dots$ & $\\dots$ & $\\dots$ & $\\dots$ &  \\\\\n",
       "\\end{tabular}\n"
      ],
      "text/plain": [
       "\u001b[1m122635×32 DataFrame\u001b[0m\n",
       "\u001b[1m    Row \u001b[0m│\u001b[1m Accident_Index \u001b[0m\u001b[1m Location_Easting_OSGR \u001b[0m\u001b[1m Location_Northing_OSGR \u001b[0m\u001b[1m Longi\u001b[0m ⋯\n",
       "\u001b[1m        \u001b[0m│\u001b[90m String         \u001b[0m\u001b[90m Union{Missing, Int64} \u001b[0m\u001b[90m Union{Missing, Int64}  \u001b[0m\u001b[90m Float\u001b[0m ⋯\n",
       "────────┼───────────────────────────────────────────────────────────────────────\n",
       "      1 │ 2018010080971                  529150                  182270  -0.13 ⋯\n",
       "      2 │ 2018010080973                  542020                  184290   0.04\n",
       "      3 │ 2018010080974                  531720                  182910  -0.10\n",
       "      4 │ 2018010080981                  541450                  183220   0.03\n",
       "      5 │ 2018010080982                  543580                  176500   0.06 ⋯\n",
       "      6 │ 2018010080983                  526060                  194910  -0.17\n",
       "      7 │ 2018010080986                  525050                  181050  -0.19\n",
       "      8 │ 2018010080987                  536710                  176960  -0.03\n",
       "      9 │ 2018010080990                  517110                  186280  -0.31 ⋯\n",
       "     10 │ 2018010080992                  535450                  181190  -0.04\n",
       "     11 │ 2018010080993                  534590                  183230  -0.06\n",
       "   ⋮    │       ⋮                   ⋮                      ⋮                 ⋮ ⋱\n",
       " 122626 │ 2018984115118                  336343                  584662  -3.00\n",
       " 122627 │ 2018984115218                  303700                  611260  -3.52 ⋯\n",
       " 122628 │ 2018984115318                  308374                  599895  -3.44\n",
       " 122629 │ 2018984115418                  308481                  601469  -3.44\n",
       " 122630 │ 2018984115518                  308354                  599190  -3.44\n",
       " 122631 │ 2018984115718                  307124                  594145  -3.46 ⋯\n",
       " 122632 │ 2018984115918                  313325                  581065  -3.36\n",
       " 122633 │ 2018984116018                  319337                  574511  -3.26\n",
       " 122634 │ 2018984116318                  318858                  566932  -3.26\n",
       " 122635 │ 2018984116418                  316008                  568771  -3.31 ⋯\n",
       "\u001b[31m                                              29 columns and 122614 rows omitted\u001b[0m"
      ]
     },
     "execution_count": 8,
     "metadata": {},
     "output_type": "execute_result"
    }
   ],
   "source": [
    "using DataFrames\n",
    "using CSV\n",
    "\n",
    "\n",
    "accidents = CSV.File(\"dataset/Data_Accidents_2018.csv\") |> DataFrame #juliaでcsvをデータフレームとして読み込む\n",
    "# Data_Vehicles_2018.csv\n",
    "# vehicles = CSV.read(\"dataset/Data_Vehicles_2018.csv\", header=true, delim=',')"
   ]
  },
  {
   "cell_type": "code",
   "execution_count": null,
   "metadata": {},
   "outputs": [],
   "source": [
    "accidents"
   ]
  }
 ],
 "metadata": {
  "kernelspec": {
   "display_name": "Julia 1.5.3",
   "language": "julia",
   "name": "julia-1.5"
  },
  "language_info": {
   "file_extension": ".jl",
   "mimetype": "application/julia",
   "name": "julia",
   "version": "1.5.3"
  }
 },
 "nbformat": 4,
 "nbformat_minor": 4
}

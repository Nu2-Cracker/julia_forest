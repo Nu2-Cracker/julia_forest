{
 "cells": [
  {
   "cell_type": "code",
   "execution_count": 2,
   "metadata": {},
   "outputs": [
    {
     "name": "stdout",
     "output_type": "stream",
     "text": [
      "Collecting pybitflyer\n",
      "  Downloading pybitflyer-0.1.9.tar.gz (7.0 kB)\n",
      "Collecting requests\n",
      "  Downloading requests-2.25.1-py2.py3-none-any.whl (61 kB)\n",
      "\u001b[K     |████████████████████████████████| 61 kB 3.4 MB/s eta 0:00:01\n",
      "\u001b[?25hRequirement already satisfied: chardet<5,>=3.0.2 in /usr/lib/python3/dist-packages (from requests->pybitflyer) (3.0.4)\n",
      "Collecting certifi>=2017.4.17\n",
      "  Downloading certifi-2020.12.5-py2.py3-none-any.whl (147 kB)\n",
      "\u001b[K     |████████████████████████████████| 147 kB 5.9 MB/s eta 0:00:01\n",
      "\u001b[?25hCollecting idna<3,>=2.5\n",
      "  Downloading idna-2.10-py2.py3-none-any.whl (58 kB)\n",
      "\u001b[K     |████████████████████████████████| 58 kB 5.0 MB/s eta 0:00:01\n",
      "\u001b[?25hCollecting urllib3<1.27,>=1.21.1\n",
      "  Downloading urllib3-1.26.3-py2.py3-none-any.whl (137 kB)\n",
      "\u001b[K     |████████████████████████████████| 137 kB 4.6 MB/s eta 0:00:01\n",
      "\u001b[?25hBuilding wheels for collected packages: pybitflyer\n",
      "  Building wheel for pybitflyer (setup.py) ... \u001b[?25l-\b \bdone\n",
      "\u001b[?25h  Created wheel for pybitflyer: filename=pybitflyer-0.1.9-py3-none-any.whl size=7049 sha256=9b0b64876ee5c715dc645de32b14377d981269a5afee1b2fa0528038ee38b2aa\n",
      "  Stored in directory: /root/.cache/pip/wheels/f1/d5/20/f240c2a848ffeb77960f8555a84e69897128150956ec9c209c\n",
      "Successfully built pybitflyer\n",
      "Installing collected packages: certifi, idna, urllib3, requests, pybitflyer\n",
      "Successfully installed certifi-2020.12.5 idna-2.10 pybitflyer-0.1.9 requests-2.25.1 urllib3-1.26.3\n"
     ]
    }
   ],
   "source": [
    "!pip3 install pybitflyer"
   ]
  },
  {
   "cell_type": "code",
   "execution_count": null,
   "metadata": {
    "collapsed": false,
    "inputHidden": false,
    "outputHidden": false
   },
   "outputs": [],
   "source": [
    "import json\n",
    "import time\n",
    "import pybitflyer\n",
    "\n",
    "\n",
    "\n",
    "KEY = keys[\"key\"]\n",
    "SECRET = keys[\"secret\"]\n",
    "\n",
    "if __name__ == '__main__':\n",
    "\n",
    "\n",
    "    api = pybitflyer.API(api_key=KEY, api_secret=SECRET)\n",
    "    \n",
    "    while True:\n",
    "        ticker = api.ticker(product_code=\"BTC_JPY\")\n",
    "        data = api.getcollateral();     \n",
    "\n",
    "        #売値\n",
    "        print('売値:' + str(ticker['best_bid']))\n",
    "    \n",
    "        #買値\n",
    "        print('買値:' + str(ticker['best_ask']))\n",
    "                                   \n",
    "        print('評価損益：' + str(data['open_position_pnl']))\n",
    "        print('預入証拠金：' + str(data['collateral']))\n",
    "        print('純資産総額：' + str(data['collateral'] + data['open_position_pnl']))\n",
    "        print('証拠金維持率：' + str(data['keep_rate'] * 100))\n",
    "            \n",
    "    \n",
    "        time.sleep(10)"
   ]
  }
 ],
 "metadata": {
  "kernelspec": {
   "display_name": "Python 3",
   "language": "python",
   "name": "python3"
  },
  "language_info": {
   "codemirror_mode": {
    "name": "ipython",
    "version": 3
   },
   "file_extension": ".py",
   "mimetype": "text/x-python",
   "name": "python",
   "nbconvert_exporter": "python",
   "pygments_lexer": "ipython3",
   "version": "3.8.5"
  },
  "nteract": {
   "version": "nteract-on-jupyter@2.1.3"
  }
 },
 "nbformat": 4,
 "nbformat_minor": 2
}

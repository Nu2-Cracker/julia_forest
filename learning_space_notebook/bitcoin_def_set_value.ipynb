{
 "cells": [
  {
   "cell_type": "code",
   "execution_count": 4,
   "metadata": {
    "collapsed": false,
    "inputHidden": false,
    "outputHidden": false
   },
   "outputs": [
    {
     "data": {
      "text/plain": [
       "definition_value (generic function with 1 method)"
      ]
     },
     "execution_count": 4,
     "metadata": {},
     "output_type": "execute_result"
    }
   ],
   "source": [
    "using Printf\n",
    "tax(coin) = coin * (0.15/100)\n",
    "    \n",
    "\n",
    "\n",
    "function bitcoin_calc_return(want_buy, many_coins, mag) \n",
    "    #購入価格\n",
    "    result_buy = want_buy * many_coins\n",
    "    \n",
    "    #購入量\n",
    "    bought = many_coins - tax(many_coins)\n",
    "\n",
    "    \n",
    "    #購入額で売却した場合\n",
    "    normal = (want_buy * bought) - (want_buy * tax(bought))\n",
    "    \n",
    "    #差額の5%を目標にする\n",
    "    result = (result_buy - normal) * mag\n",
    "    \n",
    "    #売却希望額 (1ビットコイン)\n",
    "    hope = (normal + result)/(bought + tax(bought))\n",
    "    \n",
    "\n",
    "    #予想売却価格\n",
    "    predict = hope * bought\n",
    "    \n",
    "    #予想収益\n",
    "    result_sell = predict - result_buy\n",
    "    \n",
    "    return hope, result_sell\n",
    "\n",
    "end\n",
    "\n",
    "function definition_value(want_buy, many_coins, reward)\n",
    "    for mag in 1.1:0.01:10\n",
    "        hope, result_sell = bitcoin_calc_return(want_buy, many_coins, mag) \n",
    "        if result_sell >= reward\n",
    "            @printf \"magnification: %f \\n\" mag\n",
    "            @printf \"hope value: %.0f\\n\" hope\n",
    "            @printf \"predict return: %.2f (JPY)\\n\" result_sell\n",
    "            break\n",
    "        end\n",
    "    end\n",
    "end\n"
   ]
  },
  {
   "cell_type": "code",
   "execution_count": 7,
   "metadata": {
    "collapsed": false,
    "inputHidden": false,
    "outputHidden": false
   },
   "outputs": [
    {
     "name": "stdout",
     "output_type": "stream",
     "text": [
      "magnification: 2.780000 \n",
      "hope value: 5436840\n",
      "predict return: 101.50 (JPY)\n"
     ]
    }
   ],
   "source": [
    "# 買いたい価格(指値)\n",
    "want_buy = 5407971\n",
    "#買いたい数量\n",
    "many_coins = 0.0049\n",
    "\n",
    "#期待値\n",
    "reward = 101\n",
    "\n",
    "#result\n",
    "definition_value(want_buy, many_coins, reward)"
   ]
  },
  {
   "cell_type": "code",
   "execution_count": 8,
   "metadata": {
    "collapsed": false,
    "inputHidden": false,
    "outputHidden": false
   },
   "outputs": [
    {
     "data": {
      "text/plain": [
       "28187"
      ]
     },
     "execution_count": 8,
     "metadata": {},
     "output_type": "execute_result"
    }
   ],
   "source": [
    "22175 + 50 + 5962\n"
   ]
  },
  {
   "cell_type": "code",
   "execution_count": null,
   "metadata": {
    "collapsed": false,
    "inputHidden": false,
    "outputHidden": false
   },
   "outputs": [],
   "source": []
  }
 ],
 "metadata": {
  "kernelspec": {
   "display_name": "Julia 1.5.3",
   "language": "julia",
   "name": "julia-1.5"
  },
  "language_info": {
   "file_extension": ".jl",
   "mimetype": "application/julia",
   "name": "julia",
   "version": "1.5.3"
  },
  "nteract": {
   "version": "nteract-on-jupyter@2.1.3"
  }
 },
 "nbformat": 4,
 "nbformat_minor": 2
}

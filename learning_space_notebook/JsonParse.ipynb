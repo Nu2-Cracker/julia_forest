{
 "cells": [
  {
   "cell_type": "code",
   "execution_count": 1,
   "metadata": {},
   "outputs": [],
   "source": [
    "#Jsonを読み込んでparseしてみる"
   ]
  },
  {
   "cell_type": "code",
   "execution_count": 57,
   "metadata": {
    "collapsed": false,
    "inputHidden": false,
    "outputHidden": false
   },
   "outputs": [
    {
     "name": "stderr",
     "output_type": "stream",
     "text": [
      "\u001b[32m\u001b[1m  Resolving\u001b[22m\u001b[39m package versions...\n",
      "\u001b[32m\u001b[1mNo Changes\u001b[22m\u001b[39m to `~/.julia/environments/v1.5/Project.toml`\n",
      "\u001b[32m\u001b[1mNo Changes\u001b[22m\u001b[39m to `~/.julia/environments/v1.5/Manifest.toml`\n"
     ]
    }
   ],
   "source": [
    "using Pkg\n",
    "Pkg.add(\"JSON\") #JSONのインストール\n",
    "import JSON"
   ]
  },
  {
   "cell_type": "code",
   "execution_count": 58,
   "metadata": {
    "collapsed": false,
    "inputHidden": false,
    "outputHidden": false
   },
   "outputs": [
    {
     "data": {
      "text/plain": [
       "5-element Array{String,1}:\n",
       " \"whale shark\"\n",
       " \"whale shark cebu\"\n",
       " \"whale shark size\"\n",
       " \"whale shark teeth\"\n",
       " \"whale shark facts\""
      ]
     },
     "execution_count": 58,
     "metadata": {},
     "output_type": "execute_result"
    }
   ],
   "source": [
    "#fileの読み込み\n",
    "\n",
    "s = open(\"./JSONDATA/graph.json\") do fp\n",
    "    read(fp, String)\n",
    "end\n",
    "\n",
    "data = JSON.parse(s)\n",
    "labels = [d[\"label\"] for d in data[\"nodes\"]]\n",
    "# labels = unique(labels)\n",
    "labels[1:5]"
   ]
  },
  {
   "cell_type": "code",
   "execution_count": 59,
   "metadata": {
    "collapsed": false,
    "inputHidden": false,
    "outputHidden": false
   },
   "outputs": [],
   "source": [
    "#pythonでいうvalue_countsがしたい"
   ]
  },
  {
   "cell_type": "code",
   "execution_count": 60,
   "metadata": {
    "collapsed": false,
    "inputHidden": false,
    "outputHidden": false
   },
   "outputs": [
    {
     "name": "stderr",
     "output_type": "stream",
     "text": [
      "\u001b[32m\u001b[1m  Resolving\u001b[22m\u001b[39m package versions...\n",
      "\u001b[32m\u001b[1mNo Changes\u001b[22m\u001b[39m to `~/.julia/environments/v1.5/Project.toml`\n",
      "\u001b[32m\u001b[1mNo Changes\u001b[22m\u001b[39m to `~/.julia/environments/v1.5/Manifest.toml`\n"
     ]
    }
   ],
   "source": [
    "Pkg.add(\"DataFrames\") #DataFrameのインストール\n",
    "using DataFrames"
   ]
  },
  {
   "cell_type": "code",
   "execution_count": 63,
   "metadata": {
    "collapsed": false,
    "inputHidden": false,
    "outputHidden": false
   },
   "outputs": [
    {
     "data": {
      "text/html": [
       "<table class=\"data-frame\"><thead><tr><th></th><th>B</th><th>C_sum</th></tr><tr><th></th><th>String</th><th>Int64</th></tr></thead><tbody><p>76 rows × 2 columns</p><tr><th>1</th><td>whale shark facts for kids</td><td>2</td></tr><tr><th>2</th><td>whale shark snorkeling okinawa</td><td>2</td></tr><tr><th>3</th><td>whale shark scuba diving okinawa</td><td>2</td></tr><tr><th>4</th><td>5 interesting facts about whale sharks</td><td>2</td></tr><tr><th>5</th><td>10 interesting facts about whale sharks</td><td>2</td></tr><tr><th>6</th><td>fun fact about whale sharks</td><td>2</td></tr><tr><th>7</th><td>whale shark</td><td>1</td></tr><tr><th>8</th><td>whale shark cebu</td><td>1</td></tr><tr><th>9</th><td>whale shark size</td><td>1</td></tr><tr><th>10</th><td>whale shark teeth</td><td>1</td></tr><tr><th>11</th><td>whale shark facts</td><td>1</td></tr><tr><th>12</th><td>whale shark okinawa</td><td>1</td></tr><tr><th>13</th><td>whale shark aquarium</td><td>1</td></tr><tr><th>14</th><td>whale shark diving okinawa</td><td>1</td></tr><tr><th>15</th><td>whale shark card</td><td>1</td></tr><tr><th>16</th><td>whale shark cebu oslob</td><td>1</td></tr><tr><th>17</th><td>whale shark cebu price</td><td>1</td></tr><tr><th>18</th><td>whale shark cebu tour</td><td>1</td></tr><tr><th>19</th><td>whale shark cebu season</td><td>1</td></tr><tr><th>20</th><td>whale shark cebu ethical</td><td>1</td></tr><tr><th>21</th><td>whale shark cebu best time</td><td>1</td></tr><tr><th>22</th><td>whale shark cebu location</td><td>1</td></tr><tr><th>23</th><td>whale shark cebu time</td><td>1</td></tr><tr><th>24</th><td>whale shark cebu moalboal</td><td>1</td></tr><tr><th>25</th><td>whale shark size comparison</td><td>1</td></tr><tr><th>26</th><td>whale shark size in feet</td><td>1</td></tr><tr><th>27</th><td>whale shark size compared to megalodon</td><td>1</td></tr><tr><th>28</th><td>whale shark size chart</td><td>1</td></tr><tr><th>29</th><td>whale shark size vs blue whale</td><td>1</td></tr><tr><th>30</th><td>whale shark size and weight</td><td>1</td></tr><tr><th>&vellip;</th><td>&vellip;</td><td>&vellip;</td></tr></tbody></table>"
      ],
      "text/latex": [
       "\\begin{tabular}{r|cc}\n",
       "\t& B & C\\_sum\\\\\n",
       "\t\\hline\n",
       "\t& String & Int64\\\\\n",
       "\t\\hline\n",
       "\t1 & whale shark facts for kids & 2 \\\\\n",
       "\t2 & whale shark snorkeling okinawa & 2 \\\\\n",
       "\t3 & whale shark scuba diving okinawa & 2 \\\\\n",
       "\t4 & 5 interesting facts about whale sharks & 2 \\\\\n",
       "\t5 & 10 interesting facts about whale sharks & 2 \\\\\n",
       "\t6 & fun fact about whale sharks & 2 \\\\\n",
       "\t7 & whale shark & 1 \\\\\n",
       "\t8 & whale shark cebu & 1 \\\\\n",
       "\t9 & whale shark size & 1 \\\\\n",
       "\t10 & whale shark teeth & 1 \\\\\n",
       "\t11 & whale shark facts & 1 \\\\\n",
       "\t12 & whale shark okinawa & 1 \\\\\n",
       "\t13 & whale shark aquarium & 1 \\\\\n",
       "\t14 & whale shark diving okinawa & 1 \\\\\n",
       "\t15 & whale shark card & 1 \\\\\n",
       "\t16 & whale shark cebu oslob & 1 \\\\\n",
       "\t17 & whale shark cebu price & 1 \\\\\n",
       "\t18 & whale shark cebu tour & 1 \\\\\n",
       "\t19 & whale shark cebu season & 1 \\\\\n",
       "\t20 & whale shark cebu ethical & 1 \\\\\n",
       "\t21 & whale shark cebu best time & 1 \\\\\n",
       "\t22 & whale shark cebu location & 1 \\\\\n",
       "\t23 & whale shark cebu time & 1 \\\\\n",
       "\t24 & whale shark cebu moalboal & 1 \\\\\n",
       "\t25 & whale shark size comparison & 1 \\\\\n",
       "\t26 & whale shark size in feet & 1 \\\\\n",
       "\t27 & whale shark size compared to megalodon & 1 \\\\\n",
       "\t28 & whale shark size chart & 1 \\\\\n",
       "\t29 & whale shark size vs blue whale & 1 \\\\\n",
       "\t30 & whale shark size and weight & 1 \\\\\n",
       "\t$\\dots$ & $\\dots$ & $\\dots$ \\\\\n",
       "\\end{tabular}\n"
      ],
      "text/plain": [
       "\u001b[1m76×2 DataFrame\u001b[0m\n",
       "\u001b[1m Row \u001b[0m│\u001b[1m B                                 \u001b[0m\u001b[1m C_sum \u001b[0m\n",
       "\u001b[1m     \u001b[0m│\u001b[90m String                            \u001b[0m\u001b[90m Int64 \u001b[0m\n",
       "─────┼──────────────────────────────────────────\n",
       "   1 │ whale shark facts for kids             2\n",
       "   2 │ whale shark snorkeling okinawa         2\n",
       "   3 │ whale shark scuba diving okinawa       2\n",
       "   4 │ 5 interesting facts about whale …      2\n",
       "   5 │ 10 interesting facts about whale…      2\n",
       "   6 │ fun fact about whale sharks            2\n",
       "   7 │ whale shark                            1\n",
       "   8 │ whale shark cebu                       1\n",
       "   9 │ whale shark size                       1\n",
       "  10 │ whale shark teeth                      1\n",
       "  11 │ whale shark facts                      1\n",
       "  ⋮  │                 ⋮                    ⋮\n",
       "  67 │ okinawa whale shark diving season      1\n",
       "  68 │ whale shark card gta                   1\n",
       "  69 │ whale shark card xbox one              1\n",
       "  70 │ whale shark card ps4                   1\n",
       "  71 │ whale shark card bundle                1\n",
       "  72 │ whale shark card price                 1\n",
       "  73 │ whale shark card gta 5                 1\n",
       "  74 │ whale shark card xbox                  1\n",
       "  75 │ whale shark card xbox one cheap        1\n",
       "  76 │ whale shark card gta 5 xbox one        1\n",
       "\u001b[36m                                 55 rows omitted\u001b[0m"
      ]
     },
     "execution_count": 63,
     "metadata": {},
     "output_type": "execute_result"
    }
   ],
   "source": [
    "import DataFrames\n",
    "df = DataFrame()\n",
    "df.A=1:length(labels)\n",
    "df.B = labels\n",
    "df.C = [1 for _ = 1:length(labels)] #カウント用\n",
    "\n",
    "#キーワードでグループ化\n",
    "ss = groupby(df, [:B])\n",
    "cc = combine(ss, :C => sum)\n",
    "# sort!(iris, [:Species, :SepalWidth])\n",
    "sort!(cc, [:C_sum], rev=true)\n"
   ]
  },
  {
   "cell_type": "code",
   "execution_count": 46,
   "metadata": {
    "collapsed": false,
    "inputHidden": false,
    "outputHidden": false
   },
   "outputs": [
    {
     "data": {
      "text/html": [
       "<table class=\"data-frame\"><thead><tr><th></th><th>A</th><th>B</th><th>C_sum</th></tr><tr><th></th><th>String</th><th>String</th><th>Int64</th></tr></thead><tbody><p>3 rows × 3 columns</p><tr><th>1</th><td>x1</td><td>a</td><td>12</td></tr><tr><th>2</th><td>x2</td><td>a</td><td>11</td></tr><tr><th>3</th><td>x1</td><td>b</td><td>14</td></tr></tbody></table>"
      ],
      "text/latex": [
       "\\begin{tabular}{r|ccc}\n",
       "\t& A & B & C\\_sum\\\\\n",
       "\t\\hline\n",
       "\t& String & String & Int64\\\\\n",
       "\t\\hline\n",
       "\t1 & x1 & a & 12 \\\\\n",
       "\t2 & x2 & a & 11 \\\\\n",
       "\t3 & x1 & b & 14 \\\\\n",
       "\\end{tabular}\n"
      ],
      "text/plain": [
       "\u001b[1m3×3 DataFrame\u001b[0m\n",
       "\u001b[1m Row \u001b[0m│\u001b[1m A      \u001b[0m\u001b[1m B      \u001b[0m\u001b[1m C_sum \u001b[0m\n",
       "\u001b[1m     \u001b[0m│\u001b[90m String \u001b[0m\u001b[90m String \u001b[0m\u001b[90m Int64 \u001b[0m\n",
       "─────┼───────────────────────\n",
       "   1 │ x1      a          12\n",
       "   2 │ x2      a          11\n",
       "   3 │ x1      b          14"
      ]
     },
     "execution_count": 46,
     "metadata": {},
     "output_type": "execute_result"
    }
   ],
   "source": [
    "df2 = DataFrame(:A => [\"x1\", \"x2\", \"x1\", \"x2\", \"x1\"], \n",
    "               :B => [\"a\", \"a\", \"b\", \"a\", \"b\"],\n",
    "               :C => [12, 7, 5, 4, 9],\n",
    "               :D => [\"green\", \"blue\", \"red\", \"blue\", \"yellow\"])\n",
    "\n",
    "gdf = groupby(df2, [:A, :B])\n",
    "# combine(gdf, :C => sum)"
   ]
  },
  {
   "cell_type": "code",
   "execution_count": 30,
   "metadata": {
    "collapsed": false,
    "inputHidden": false,
    "outputHidden": false
   },
   "outputs": [],
   "source": []
  },
  {
   "cell_type": "code",
   "execution_count": 31,
   "metadata": {
    "collapsed": false,
    "inputHidden": false,
    "outputHidden": false
   },
   "outputs": [],
   "source": []
  },
  {
   "cell_type": "code",
   "execution_count": 32,
   "metadata": {
    "collapsed": false,
    "inputHidden": false,
    "outputHidden": false
   },
   "outputs": [],
   "source": []
  },
  {
   "cell_type": "code",
   "execution_count": 33,
   "metadata": {
    "collapsed": false,
    "inputHidden": false,
    "outputHidden": false
   },
   "outputs": [],
   "source": []
  },
  {
   "cell_type": "code",
   "execution_count": 34,
   "metadata": {
    "collapsed": false,
    "inputHidden": false,
    "outputHidden": false
   },
   "outputs": [],
   "source": []
  },
  {
   "cell_type": "code",
   "execution_count": null,
   "metadata": {
    "collapsed": false,
    "inputHidden": false,
    "outputHidden": false
   },
   "outputs": [],
   "source": []
  }
 ],
 "metadata": {
  "kernelspec": {
   "display_name": "Julia 1.5.3",
   "language": "julia",
   "name": "julia-1.5"
  },
  "language_info": {
   "file_extension": ".jl",
   "mimetype": "application/julia",
   "name": "julia",
   "version": "1.5.3"
  },
  "nteract": {
   "version": "nteract-on-jupyter@2.1.3"
  }
 },
 "nbformat": 4,
 "nbformat_minor": 2
}
